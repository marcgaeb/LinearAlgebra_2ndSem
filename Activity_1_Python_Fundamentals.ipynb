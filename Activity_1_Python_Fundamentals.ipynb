{
  "nbformat": 4,
  "nbformat_minor": 0,
  "metadata": {
    "colab": {
      "name": "Activity 1 - Python Fundamentals",
      "provenance": [],
      "collapsed_sections": [],
      "authorship_tag": "ABX9TyNqmNw+YnJLd0gh0lrQTiiJ",
      "include_colab_link": true
    },
    "kernelspec": {
      "name": "python3",
      "display_name": "Python 3"
    },
    "language_info": {
      "name": "python"
    }
  },
  "cells": [
    {
      "cell_type": "markdown",
      "metadata": {
        "id": "view-in-github",
        "colab_type": "text"
      },
      "source": [
        "<a href=\"https://colab.research.google.com/github/marcgaeb/LinearAlgebra_2ndSem/blob/main/Activity_1_Python_Fundamentals.ipynb\" target=\"_parent\"><img src=\"https://colab.research.google.com/assets/colab-badge.svg\" alt=\"Open In Colab\"/></a>"
      ]
    },
    {
      "cell_type": "markdown",
      "source": [
        "# Welcome to Python Fundametals\n",
        "In this module, we are going to establish or review our skills in Python programming. In this notebook we are going to cover:\n",
        "* Variables and Data Types \n",
        "* Operations\n",
        "* Input and Output Operations\n",
        "* Logic Control\n",
        "* Iterables\n",
        "* Functions\n",
        "\n",
        "\n"
      ],
      "metadata": {
        "id": "s2cLHjposJWe"
      }
    },
    {
      "cell_type": "markdown",
      "source": [
        "## Variable and Data Types"
      ],
      "metadata": {
        "id": "MDrf57oTuIzy"
      }
    },
    {
      "cell_type": "code",
      "source": [
        "m = 5 \n",
        "g,c = 1, 8\n",
        "c\n"
      ],
      "metadata": {
        "colab": {
          "base_uri": "https://localhost:8080/"
        },
        "id": "vD8847j2tuPc",
        "outputId": "59e5d2ad-2058-41a0-9a5e-33c64a17a70a"
      },
      "execution_count": null,
      "outputs": [
        {
          "output_type": "execute_result",
          "data": {
            "text/plain": [
              "8"
            ]
          },
          "metadata": {},
          "execution_count": 8
        }
      ]
    },
    {
      "cell_type": "code",
      "source": [
        "p = 9\n",
        "p"
      ],
      "metadata": {
        "colab": {
          "base_uri": "https://localhost:8080/"
        },
        "id": "27r2fVIRup0e",
        "outputId": "b38d1d06-f2a8-4950-f44f-b8490b50052b"
      },
      "execution_count": null,
      "outputs": [
        {
          "output_type": "execute_result",
          "data": {
            "text/plain": [
              "9"
            ]
          },
          "metadata": {},
          "execution_count": 9
        }
      ]
    },
    {
      "cell_type": "code",
      "source": [
        "type (x)"
      ],
      "metadata": {
        "colab": {
          "base_uri": "https://localhost:8080/"
        },
        "id": "je0dbMf5vc2U",
        "outputId": "df3bf597-324f-402f-b486-f5790a29d6af"
      },
      "execution_count": null,
      "outputs": [
        {
          "output_type": "execute_result",
          "data": {
            "text/plain": [
              "int"
            ]
          },
          "metadata": {},
          "execution_count": 10
        }
      ]
    },
    {
      "cell_type": "code",
      "source": [
        "y = 1.0\n",
        "type (y)"
      ],
      "metadata": {
        "colab": {
          "base_uri": "https://localhost:8080/"
        },
        "id": "KYin7tkxvj_3",
        "outputId": "7b7bef86-e07f-4cd1-f0a1-3583120172b8"
      },
      "execution_count": null,
      "outputs": [
        {
          "output_type": "execute_result",
          "data": {
            "text/plain": [
              "float"
            ]
          },
          "metadata": {},
          "execution_count": 11
        }
      ]
    },
    {
      "cell_type": "code",
      "source": [
        "x = float (x)\n",
        "type (x)\n"
      ],
      "metadata": {
        "colab": {
          "base_uri": "https://localhost:8080/"
        },
        "id": "gVNJkUoGv2nh",
        "outputId": "38b41ee0-0fbf-45a3-e58e-7fce7ca5fd6e"
      },
      "execution_count": null,
      "outputs": [
        {
          "output_type": "execute_result",
          "data": {
            "text/plain": [
              "float"
            ]
          },
          "metadata": {},
          "execution_count": 21
        }
      ]
    },
    {
      "cell_type": "code",
      "source": [
        "m,g,a = \"0\" , '1' , 'one'\n",
        "type (m)"
      ],
      "metadata": {
        "colab": {
          "base_uri": "https://localhost:8080/"
        },
        "id": "SumnEcBkwxLn",
        "outputId": "6050742d-897a-4eb2-87e1-bad502e120c0"
      },
      "execution_count": null,
      "outputs": [
        {
          "output_type": "execute_result",
          "data": {
            "text/plain": [
              "str"
            ]
          },
          "metadata": {},
          "execution_count": 31
        }
      ]
    },
    {
      "cell_type": "code",
      "source": [
        "m_int = int (m)\n",
        "m_int"
      ],
      "metadata": {
        "colab": {
          "base_uri": "https://localhost:8080/"
        },
        "id": "_J0hNo0YxMZc",
        "outputId": "3eb939fd-ac3f-4d47-f1f9-c2bea996fba5"
      },
      "execution_count": null,
      "outputs": [
        {
          "output_type": "execute_result",
          "data": {
            "text/plain": [
              "0"
            ]
          },
          "metadata": {},
          "execution_count": 32
        }
      ]
    },
    {
      "cell_type": "markdown",
      "source": [
        "## Operations"
      ],
      "metadata": {
        "id": "mGW6npzPx9m4"
      }
    },
    {
      "cell_type": "markdown",
      "source": [
        "### Arithmetic"
      ],
      "metadata": {
        "id": "nAFsErjcyInT"
      }
    },
    {
      "cell_type": "code",
      "source": [
        "m,g,c,p = 3.0, -0.5, 0, -32\n"
      ],
      "metadata": {
        "id": "fHHDyIgyyR1m"
      },
      "execution_count": null,
      "outputs": []
    },
    {
      "cell_type": "code",
      "source": [
        "\n",
        "### Addition\n",
        "S = m+g\n",
        "S"
      ],
      "metadata": {
        "colab": {
          "base_uri": "https://localhost:8080/"
        },
        "id": "1PDpYgeLyqRF",
        "outputId": "1fb89e70-7e10-4174-d072-f0881cca6d34"
      },
      "execution_count": null,
      "outputs": [
        {
          "output_type": "execute_result",
          "data": {
            "text/plain": [
              "1.5"
            ]
          },
          "metadata": {},
          "execution_count": 82
        }
      ]
    },
    {
      "cell_type": "code",
      "source": [
        "### Substraction\n",
        "D = g-p\n",
        "D"
      ],
      "metadata": {
        "colab": {
          "base_uri": "https://localhost:8080/"
        },
        "id": "HoFtM59IzUw2",
        "outputId": "c86c3622-d8c4-4f0f-b938-43afea9a9e6b"
      },
      "execution_count": null,
      "outputs": [
        {
          "output_type": "execute_result",
          "data": {
            "text/plain": [
              "31.5"
            ]
          },
          "metadata": {},
          "execution_count": 83
        }
      ]
    },
    {
      "cell_type": "code",
      "source": [
        "### Multiplication\n",
        "P = m*p\n",
        "P"
      ],
      "metadata": {
        "colab": {
          "base_uri": "https://localhost:8080/"
        },
        "id": "YHQUFw76zmzg",
        "outputId": "e8fd6c4c-5100-4322-ac3a-28b206e90e86"
      },
      "execution_count": null,
      "outputs": [
        {
          "output_type": "execute_result",
          "data": {
            "text/plain": [
              "-64.0"
            ]
          },
          "metadata": {},
          "execution_count": 84
        }
      ]
    },
    {
      "cell_type": "code",
      "source": [
        "### Division\n",
        "Q = c/p\n",
        "Q"
      ],
      "metadata": {
        "colab": {
          "base_uri": "https://localhost:8080/"
        },
        "id": "U4FLTwMlzzg9",
        "outputId": "1c474dbb-4bc3-464a-fefb-657684745c93"
      },
      "execution_count": null,
      "outputs": [
        {
          "output_type": "execute_result",
          "data": {
            "text/plain": [
              "-0.0"
            ]
          },
          "metadata": {},
          "execution_count": 85
        }
      ]
    },
    {
      "cell_type": "code",
      "source": [
        "### Floor Division\n",
        "Fq = m//g\n",
        "Fq"
      ],
      "metadata": {
        "colab": {
          "base_uri": "https://localhost:8080/"
        },
        "id": "w1CWheHo0HiO",
        "outputId": "cf1fb6fa-05cc-435f-f0e2-fdd39a75d6ff"
      },
      "execution_count": null,
      "outputs": [
        {
          "output_type": "execute_result",
          "data": {
            "text/plain": [
              "-4.0"
            ]
          },
          "metadata": {},
          "execution_count": 86
        }
      ]
    },
    {
      "cell_type": "code",
      "source": [
        "### Exponentiation\n",
        "E = m**g\n",
        "E"
      ],
      "metadata": {
        "colab": {
          "base_uri": "https://localhost:8080/"
        },
        "id": "5Z91GNeR0evW",
        "outputId": "97f02b20-bd92-4dc8-a2e2-439f1f708b82"
      },
      "execution_count": null,
      "outputs": [
        {
          "output_type": "execute_result",
          "data": {
            "text/plain": [
              "0.7071067811865476"
            ]
          },
          "metadata": {},
          "execution_count": 87
        }
      ]
    },
    {
      "cell_type": "code",
      "source": [
        "### Modulo\n",
        "mod = p%m \n",
        "mod"
      ],
      "metadata": {
        "colab": {
          "base_uri": "https://localhost:8080/"
        },
        "id": "vbV69m4o03lR",
        "outputId": "e36f13c1-cb9e-4f6a-e2f3-894e9cb4602f"
      },
      "execution_count": null,
      "outputs": [
        {
          "output_type": "execute_result",
          "data": {
            "text/plain": [
              "0.0"
            ]
          },
          "metadata": {},
          "execution_count": 88
        }
      ]
    },
    {
      "cell_type": "markdown",
      "source": [
        "### Assignment Operations"
      ],
      "metadata": {
        "id": "982Venpf1brC"
      }
    },
    {
      "cell_type": "code",
      "source": [
        "A, B, C, D = 0, 100, 2, 2"
      ],
      "metadata": {
        "id": "iNq8UHYm1jM-"
      },
      "execution_count": null,
      "outputs": []
    },
    {
      "cell_type": "code",
      "source": [
        "A += m\n",
        "A"
      ],
      "metadata": {
        "colab": {
          "base_uri": "https://localhost:8080/"
        },
        "id": "rm6QbbgF1zWk",
        "outputId": "7bebf0e3-a462-4113-ee80-b316e1b4ad5c"
      },
      "execution_count": null,
      "outputs": [
        {
          "output_type": "execute_result",
          "data": {
            "text/plain": [
              "3.0"
            ]
          },
          "metadata": {},
          "execution_count": 110
        }
      ]
    },
    {
      "cell_type": "code",
      "source": [
        "B -= d\n",
        "B"
      ],
      "metadata": {
        "colab": {
          "base_uri": "https://localhost:8080/"
        },
        "id": "NcS88WPx2EK6",
        "outputId": "7795f41c-57a6-407b-f2d2-2401e86e4262"
      },
      "execution_count": null,
      "outputs": [
        {
          "output_type": "execute_result",
          "data": {
            "text/plain": [
              "196"
            ]
          },
          "metadata": {},
          "execution_count": 103
        }
      ]
    },
    {
      "cell_type": "code",
      "source": [
        "C *= 5\n",
        "C"
      ],
      "metadata": {
        "colab": {
          "base_uri": "https://localhost:8080/"
        },
        "id": "pnbi33qc2ZT3",
        "outputId": "77118b5d-2722-455b-a692-820a55994496"
      },
      "execution_count": null,
      "outputs": [
        {
          "output_type": "execute_result",
          "data": {
            "text/plain": [
              "40"
            ]
          },
          "metadata": {},
          "execution_count": 114
        }
      ]
    },
    {
      "cell_type": "code",
      "source": [
        "D **= 2\n",
        "D"
      ],
      "metadata": {
        "colab": {
          "base_uri": "https://localhost:8080/"
        },
        "id": "xQ5G-XZ23RqM",
        "outputId": "6660b60c-3f54-4a25-ed58-cac8c211b9b1"
      },
      "execution_count": null,
      "outputs": [
        {
          "output_type": "execute_result",
          "data": {
            "text/plain": [
              "4294967296"
            ]
          },
          "metadata": {},
          "execution_count": 116
        }
      ]
    },
    {
      "cell_type": "markdown",
      "source": [
        "### Comparators"
      ],
      "metadata": {
        "id": "CMSyjUo53Wnw"
      }
    },
    {
      "cell_type": "code",
      "source": [
        "res_1, res_2, res_3 = 1, 2.0, \"1\"\n",
        "true_val = 1.0"
      ],
      "metadata": {
        "id": "lbKc0ECE3Zd9"
      },
      "execution_count": null,
      "outputs": []
    },
    {
      "cell_type": "code",
      "source": [
        "## Equality\n",
        "res_2 == true_val"
      ],
      "metadata": {
        "colab": {
          "base_uri": "https://localhost:8080/"
        },
        "id": "GrCRstnk3lV-",
        "outputId": "b9abb6e6-d60a-4180-e2e9-ff877c9d93b1"
      },
      "execution_count": null,
      "outputs": [
        {
          "output_type": "execute_result",
          "data": {
            "text/plain": [
              "False"
            ]
          },
          "metadata": {},
          "execution_count": 119
        }
      ]
    },
    {
      "cell_type": "code",
      "source": [
        "## Non-equality\n",
        "res_1 != true_val"
      ],
      "metadata": {
        "colab": {
          "base_uri": "https://localhost:8080/"
        },
        "id": "7rDSyL9u3q1G",
        "outputId": "a7f3f3b5-ffb8-4fcd-89d2-8c1c39a61fab"
      },
      "execution_count": null,
      "outputs": [
        {
          "output_type": "execute_result",
          "data": {
            "text/plain": [
              "False"
            ]
          },
          "metadata": {},
          "execution_count": 124
        }
      ]
    },
    {
      "cell_type": "code",
      "source": [
        "## Inequality\n",
        "t1 = res_1 > res_2\n",
        "t2 = res_1 < res_2\n",
        "t3 = res_1 >= res_2/2\n",
        "t4 = res_1 <= res_2\n",
        "t4"
      ],
      "metadata": {
        "colab": {
          "base_uri": "https://localhost:8080/"
        },
        "id": "GjeiAjfj35IY",
        "outputId": "38e70d28-efc6-49c2-a693-b2ae7225533d"
      },
      "execution_count": null,
      "outputs": [
        {
          "output_type": "execute_result",
          "data": {
            "text/plain": [
              "True"
            ]
          },
          "metadata": {},
          "execution_count": 127
        }
      ]
    },
    {
      "cell_type": "markdown",
      "source": [
        "### Logical"
      ],
      "metadata": {
        "id": "IYFDpugd46NZ"
      }
    },
    {
      "cell_type": "code",
      "source": [
        "res_1 == true_val"
      ],
      "metadata": {
        "colab": {
          "base_uri": "https://localhost:8080/"
        },
        "id": "xppTpDaf48qh",
        "outputId": "381b01e0-8406-47a3-848e-3c0a20fe9a36"
      },
      "execution_count": null,
      "outputs": [
        {
          "output_type": "execute_result",
          "data": {
            "text/plain": [
              "True"
            ]
          },
          "metadata": {},
          "execution_count": 128
        }
      ]
    },
    {
      "cell_type": "code",
      "source": [
        "res_1 is true_val"
      ],
      "metadata": {
        "colab": {
          "base_uri": "https://localhost:8080/"
        },
        "id": "mHNb4BX15lMF",
        "outputId": "020e3186-ab03-427c-c221-b9f76dded056"
      },
      "execution_count": null,
      "outputs": [
        {
          "output_type": "execute_result",
          "data": {
            "text/plain": [
              "False"
            ]
          },
          "metadata": {},
          "execution_count": 129
        }
      ]
    },
    {
      "cell_type": "code",
      "source": [
        "res_1 is not true_val"
      ],
      "metadata": {
        "colab": {
          "base_uri": "https://localhost:8080/"
        },
        "id": "GeSzrGF76RnQ",
        "outputId": "786530b5-71f2-47bf-fa06-9414e2d41de9"
      },
      "execution_count": null,
      "outputs": [
        {
          "output_type": "execute_result",
          "data": {
            "text/plain": [
              "True"
            ]
          },
          "metadata": {},
          "execution_count": 130
        }
      ]
    },
    {
      "cell_type": "code",
      "source": [
        "p, q = True, False\n",
        "conj = p and q\n",
        "conj"
      ],
      "metadata": {
        "colab": {
          "base_uri": "https://localhost:8080/"
        },
        "id": "mg1blYcE6V7f",
        "outputId": "ebe283a1-f9d1-4c34-ed22-76d23e4611bb"
      },
      "execution_count": null,
      "outputs": [
        {
          "output_type": "execute_result",
          "data": {
            "text/plain": [
              "False"
            ]
          },
          "metadata": {},
          "execution_count": 136
        }
      ]
    },
    {
      "cell_type": "code",
      "source": [
        "p, q = True, False\n",
        "disj = p and q\n",
        "disj"
      ],
      "metadata": {
        "colab": {
          "base_uri": "https://localhost:8080/"
        },
        "outputId": "909f9d5c-ee9d-41da-8e3c-9e77fde24c7c",
        "id": "HTfhtRpQ7MfZ"
      },
      "execution_count": null,
      "outputs": [
        {
          "output_type": "execute_result",
          "data": {
            "text/plain": [
              "False"
            ]
          },
          "metadata": {},
          "execution_count": 139
        }
      ]
    },
    {
      "cell_type": "code",
      "source": [
        "p, q = True, False\n",
        "xor = (not p and q) or (p and not q)\n",
        "xor"
      ],
      "metadata": {
        "colab": {
          "base_uri": "https://localhost:8080/"
        },
        "id": "B5KumY1q7o59",
        "outputId": "380c3c54-ca4b-44e9-cff2-d9b0a3d73100"
      },
      "execution_count": null,
      "outputs": [
        {
          "output_type": "execute_result",
          "data": {
            "text/plain": [
              "True"
            ]
          },
          "metadata": {},
          "execution_count": 138
        }
      ]
    },
    {
      "cell_type": "markdown",
      "source": [
        "### I/O"
      ],
      "metadata": {
        "id": "BuzxhCNG8AfS"
      }
    },
    {
      "cell_type": "code",
      "source": [
        "print(\"Hello World\")"
      ],
      "metadata": {
        "colab": {
          "base_uri": "https://localhost:8080/"
        },
        "id": "7Hh3zQf_8GDc",
        "outputId": "1f09298f-8385-4033-c565-240d8b5af54b"
      },
      "execution_count": null,
      "outputs": [
        {
          "output_type": "stream",
          "name": "stdout",
          "text": [
            "Hello World\n"
          ]
        }
      ]
    },
    {
      "cell_type": "code",
      "source": [
        "cnt = 1"
      ],
      "metadata": {
        "id": "_IMAflap8RJI"
      },
      "execution_count": null,
      "outputs": []
    },
    {
      "cell_type": "code",
      "source": [
        "string = \"Hello World\"\n",
        "print(string, \", Current run count is:\", cnt)\n",
        "cnt += 3"
      ],
      "metadata": {
        "colab": {
          "base_uri": "https://localhost:8080/"
        },
        "id": "N4xmGQgu8W91",
        "outputId": "93861d31-b3a9-4d79-a71b-9cf1915e3a28"
      },
      "execution_count": null,
      "outputs": [
        {
          "output_type": "stream",
          "name": "stdout",
          "text": [
            "Hello World , Current run count is: 5\n"
          ]
        }
      ]
    },
    {
      "cell_type": "code",
      "source": [
        "print(f\"{string}, Current count is: {cnt}\")"
      ],
      "metadata": {
        "colab": {
          "base_uri": "https://localhost:8080/"
        },
        "id": "csul91wQ9AIf",
        "outputId": "d9ad3395-9a60-411d-f70a-3d31f418fcc8"
      },
      "execution_count": null,
      "outputs": [
        {
          "output_type": "stream",
          "name": "stdout",
          "text": [
            "Hello World, Current count is: 8\n"
          ]
        }
      ]
    },
    {
      "cell_type": "code",
      "source": [
        "sem_grade = 82.243564657461234\n",
        "name = 'Gaeb'\n",
        "print(\"Hello {}, your semestral grade is: {}\".format(name, sem_grade))"
      ],
      "metadata": {
        "colab": {
          "base_uri": "https://localhost:8080/"
        },
        "id": "e3Tl7vaQ9WHB",
        "outputId": "fcabd974-96ff-4953-aa62-89139f6e1ae3"
      },
      "execution_count": null,
      "outputs": [
        {
          "output_type": "stream",
          "name": "stdout",
          "text": [
            "Hello Gaeb, your semestral grade is: 82.24356465746123\n"
          ]
        }
      ]
    },
    {
      "cell_type": "code",
      "source": [
        ""
      ],
      "metadata": {
        "id": "ByXapxFr_6Bo"
      },
      "execution_count": null,
      "outputs": []
    },
    {
      "cell_type": "code",
      "source": [
        "w_pg, w_mg, w_fg = 0.3, 0.3, 0.4\n",
        "print(\"The weights of your semestral grades are:\\\n",
        "\\n\\t{:.2%} for Prelims\\\n",
        "\\n\\t{:.2%} for Midterms, and\\\n",
        "\\n\\t{:.2%} for Finals.\".format(w_pg, w_mg, w_fg))"
      ],
      "metadata": {
        "colab": {
          "base_uri": "https://localhost:8080/"
        },
        "id": "rv3_XU0s9-h2",
        "outputId": "fe1d78b0-2bf4-4c50-a0c7-30e60bff43e6"
      },
      "execution_count": null,
      "outputs": [
        {
          "output_type": "stream",
          "name": "stdout",
          "text": [
            "The weights of your semestral grades are:\n",
            "\t30.00% for Prelims\n",
            "\t30.00% for Midterms, and\n",
            "\t40.00% for Finals.\n"
          ]
        }
      ]
    },
    {
      "cell_type": "code",
      "source": [
        ""
      ],
      "metadata": {
        "id": "kHh3kvaa_3ey"
      },
      "execution_count": null,
      "outputs": []
    },
    {
      "cell_type": "code",
      "source": [
        "x = input (\"enter a number: \")\n",
        "x"
      ],
      "metadata": {
        "id": "p7Rc7Gfru-P0",
        "outputId": "f5da80e6-bbca-4cab-a65e-80c05490fca2",
        "colab": {
          "base_uri": "https://localhost:8080/",
          "height": 53
        }
      },
      "execution_count": null,
      "outputs": [
        {
          "name": "stdout",
          "output_type": "stream",
          "text": [
            "enter a number: 15\n"
          ]
        },
        {
          "output_type": "execute_result",
          "data": {
            "application/vnd.google.colaboratory.intrinsic+json": {
              "type": "string"
            },
            "text/plain": [
              "'15'"
            ]
          },
          "metadata": {},
          "execution_count": 7
        }
      ]
    },
    {
      "cell_type": "code",
      "source": [
        "name = input(\"Kimi no awa: \")\n",
        "pg = input(\"Enter prelim grade: \")\n",
        "mg = input(\"Enter midterm grade: \")\n",
        "fg = input(\"Enter finals grade: \")\n",
        "sem_grade = None\n",
        "print(\\\"Hello {}, your semestral grade is: {}\".format(name, sem_grade))"
      ],
      "metadata": {
        "id": "5qACTOxGvT4L",
        "outputId": "08e6e125-6f24-4ba8-969b-36fa7de39e15",
        "colab": {
          "base_uri": "https://localhost:8080/"
        }
      },
      "execution_count": null,
      "outputs": [
        {
          "output_type": "stream",
          "name": "stdout",
          "text": [
            "Kimi no awa: gaeb\n",
            "Enter prelim grade: 97\n",
            "Enter midterm grade: 94.3\n",
            "Enter finals grade: 90.67\n",
            "Hello gaeb, your semestral grade is: None\n"
          ]
        }
      ]
    },
    {
      "cell_type": "markdown",
      "source": [
        "### While "
      ],
      "metadata": {
        "id": "7kkqKJg1w2ej"
      }
    },
    {
      "cell_type": "code",
      "source": [
        "## while loops\n",
        "i, j = 0, 10\n",
        "while(i<=j):\n",
        "  print(f\"{i}\\t|\\t{j}\")\n",
        "  i+=1"
      ],
      "metadata": {
        "id": "OjLOptB2xIF8",
        "outputId": "7033c9d5-445d-4c08-eff0-260e430dd774",
        "colab": {
          "base_uri": "https://localhost:8080/"
        }
      },
      "execution_count": null,
      "outputs": [
        {
          "output_type": "stream",
          "name": "stdout",
          "text": [
            "0\t|\t10\n",
            "1\t|\t10\n",
            "2\t|\t10\n",
            "3\t|\t10\n",
            "4\t|\t10\n",
            "5\t|\t10\n",
            "6\t|\t10\n",
            "7\t|\t10\n",
            "8\t|\t10\n",
            "9\t|\t10\n",
            "10\t|\t10\n"
          ]
        }
      ]
    },
    {
      "cell_type": "markdown",
      "source": [
        "###For"
      ],
      "metadata": {
        "id": "oW1De7RpyHoz"
      }
    },
    {
      "cell_type": "code",
      "source": [
        "# for(int i=0; i<10; i++){\n",
        "# printf(i)\n",
        "# }\n",
        "\n",
        "i=0\n",
        "for i in range (15):\n",
        "  print(i)"
      ],
      "metadata": {
        "id": "4NmeHNhXx9IP",
        "outputId": "e44b71b3-65ce-4a58-a5e5-c2db87531c64",
        "colab": {
          "base_uri": "https://localhost:8080/"
        }
      },
      "execution_count": null,
      "outputs": [
        {
          "output_type": "stream",
          "name": "stdout",
          "text": [
            "0\n",
            "1\n",
            "2\n",
            "3\n",
            "4\n",
            "5\n",
            "6\n",
            "7\n",
            "8\n",
            "9\n",
            "10\n",
            "11\n",
            "12\n",
            "13\n",
            "14\n"
          ]
        }
      ]
    },
    {
      "cell_type": "code",
      "source": [
        "playlist = [\"Perfect\", \"Kailan\", \"Tayo Nalang\"]\n",
        "print('Now Playing:\\n')\n",
        "for song in playlist:\n",
        "    print(song)\n",
        "  "
      ],
      "metadata": {
        "id": "C0un_3fTykiE",
        "outputId": "eaea2ba9-c7bd-4537-8d9c-0aaaf4cd184f",
        "colab": {
          "base_uri": "https://localhost:8080/"
        }
      },
      "execution_count": null,
      "outputs": [
        {
          "output_type": "stream",
          "name": "stdout",
          "text": [
            "Now Playing:\n",
            "\n",
            "Perfect\n",
            "Kailan\n",
            "Tayo Nalang\n"
          ]
        }
      ]
    },
    {
      "cell_type": "markdown",
      "source": [
        "###Condition Statements"
      ],
      "metadata": {
        "id": "rgKzrzMMzQ-Q"
      }
    },
    {
      "cell_type": "code",
      "source": [
        "numeral1, numeral2 = 13,14\n",
        "if(numeral1 == numeral2):\n",
        "  print(\"Yey\")\n",
        "elif(numeral1>numeral2):\n",
        "  print(\"Hoho\")\n",
        "else:\n",
        "  print(\"Aww\")"
      ],
      "metadata": {
        "id": "rdrwoUXVzUwd",
        "outputId": "7f631c30-c2ea-43c2-f869-076d15cb15c9",
        "colab": {
          "base_uri": "https://localhost:8080/"
        }
      },
      "execution_count": null,
      "outputs": [
        {
          "output_type": "stream",
          "name": "stdout",
          "text": [
            "Aww\n"
          ]
        }
      ]
    },
    {
      "cell_type": "markdown",
      "source": [
        "###Functions"
      ],
      "metadata": {
        "id": "bCiUIpl91h0v"
      }
    },
    {
      "cell_type": "code",
      "source": [
        "# void DeleteUser(int userid){\n",
        "#      delete(userid);\n",
        "# }\n",
        "\n",
        "def delete_user (userid):\n",
        "    print(\"Successfully deleted all user: {}\".format(userid))\n",
        "\n",
        "def delete_all_users ():\n",
        "    print(\"Perfect.\")"
      ],
      "metadata": {
        "id": "XUid6wB81kKr"
      },
      "execution_count": null,
      "outputs": []
    },
    {
      "cell_type": "code",
      "source": [
        "userid = \"Gaeb\"\n",
        "delete_user(\"Gaeb\")\n",
        "delete_all_users()"
      ],
      "metadata": {
        "id": "r29yPQVI2ZAd",
        "outputId": "b7abd2f5-8d1a-47d8-bd0d-6a8fe696b5e9",
        "colab": {
          "base_uri": "https://localhost:8080/"
        }
      },
      "execution_count": null,
      "outputs": [
        {
          "output_type": "stream",
          "name": "stdout",
          "text": [
            "Successfully deleted all user: Gaeb\n",
            "Perfect.\n"
          ]
        }
      ]
    },
    {
      "cell_type": "code",
      "source": [
        "def add(addend1, addend2):\n",
        "  return addend1 + addend2\n",
        "\n",
        "def power_of_base2(exponent):\n",
        "  return 2**exponent"
      ],
      "metadata": {
        "id": "SJRGvwco3m-9"
      },
      "execution_count": null,
      "outputs": []
    },
    {
      "cell_type": "code",
      "source": [
        "#addend1, addend2 = 55, 70\n",
        "#add(addend1, addend2)\n",
        "\n",
        "exponent = 15\n",
        "power_of_base2(exponent)"
      ],
      "metadata": {
        "id": "Xwf0u9vM4An8",
        "outputId": "d0b002e3-c906-40d8-bf88-c444d87b582f",
        "colab": {
          "base_uri": "https://localhost:8080/"
        }
      },
      "execution_count": null,
      "outputs": [
        {
          "output_type": "execute_result",
          "data": {
            "text/plain": [
              "32768"
            ]
          },
          "metadata": {},
          "execution_count": 42
        }
      ]
    }
  ]
}