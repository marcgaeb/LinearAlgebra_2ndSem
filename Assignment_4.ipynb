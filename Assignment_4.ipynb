{
  "nbformat": 4,
  "nbformat_minor": 0,
  "metadata": {
    "colab": {
      "name": "Assignment 4",
      "provenance": [],
      "collapsed_sections": [],
      "include_colab_link": true
    },
    "kernelspec": {
      "name": "python3",
      "display_name": "Python 3"
    },
    "language_info": {
      "name": "python"
    }
  },
  "cells": [
    {
      "cell_type": "markdown",
      "metadata": {
        "id": "view-in-github",
        "colab_type": "text"
      },
      "source": [
        "<a href=\"https://colab.research.google.com/github/marcgaeb/LinearAlgebra_2ndSem/blob/main/Assignment_4.ipynb\" target=\"_parent\"><img src=\"https://colab.research.google.com/assets/colab-badge.svg\" alt=\"Open In Colab\"/></a>"
      ]
    },
    {
      "cell_type": "markdown",
      "source": [
        "# Linear Algebra for ECE\n",
        "## Laboratory 6 : Matrix Operations"
      ],
      "metadata": {
        "id": "s1nBQV988kl8"
      }
    },
    {
      "cell_type": "markdown",
      "source": [
        "Now that you have a fundamental knowledge about representing and operating with vectors as well as the fundamentals of matrices, we'll try to the same operations with matrices and even more."
      ],
      "metadata": {
        "id": "l6HWklyHzuSQ"
      }
    },
    {
      "cell_type": "markdown",
      "source": [
        "### Objectives\n",
        "At the end of this activity you will be able to:\n",
        "1. Be familiar with the fundamental matrix operations.\n",
        "2. Apply the operations to solve intemrediate equations.\n",
        "3. Apply matrix algebra in engineering solutions."
      ],
      "metadata": {
        "id": "Cs0xFSMbzwkv"
      }
    },
    {
      "cell_type": "markdown",
      "source": [
        "#Discussion"
      ],
      "metadata": {
        "id": "v_e1mIBY86ru"
      }
    },
    {
      "cell_type": "code",
      "source": [
        "import numpy as np\n",
        "import matplotlib.pyplot as plt\n",
        "%matplotlib inline"
      ],
      "metadata": {
        "id": "mYhzjKcP8s72"
      },
      "execution_count": null,
      "outputs": []
    },
    {
      "cell_type": "markdown",
      "source": [
        "# Transposition"
      ],
      "metadata": {
        "id": "wqgACLvx8r91"
      }
    },
    {
      "cell_type": "markdown",
      "source": [
        "One of the fundamental operations in matrix algebra is Transposition. The transpose of a matrix is done by flipping the values of its elements over its diagonals. With this, the rows and columns from the original matrix will be switched. So for a matrix $A$ its transpose is denoted as $A^T$. So for example:"
      ],
      "metadata": {
        "id": "77r4oXsx1men"
      }
    },
    {
      "cell_type": "markdown",
      "source": [
        ":$$\n",
        "A=\\begin{bmatrix} 9 & 1 & 3 & 2 \\\\ 6 & {-3} & 9 & 0 \\\\ 2 & -4 & 6 & 8 \\\\ 9 &7 & 1 &-3\\end{bmatrix} \\\\\n",
        "$$"
      ],
      "metadata": {
        "id": "wsltF5_a9NbW"
      }
    },
    {
      "cell_type": "markdown",
      "source": [
        "$$ A^T = \\begin{bmatrix} 9 & 6 & 2 & 9 \\\\1 & -3 & -4 & 7 \\\\ 3 & 9 & 6 & 1 \\\\ 2 & 0 & 8 & -3\\end{bmatrix}$$"
      ],
      "metadata": {
        "id": "RIdomRvy9l7t"
      }
    },
    {
      "cell_type": "markdown",
      "source": [
        "This can now be achieved programmatically by using `np.transpose()` or using the `T` method."
      ],
      "metadata": {
        "id": "uvSXiPOt2qEC"
      }
    },
    {
      "cell_type": "code",
      "source": [
        "K = np.array([\n",
        "    [9,1,3,2],\n",
        "    [6,-3,9,0],\n",
        "    [2,-4,6,8],\n",
        "    [9,7,1,-3]\n",
        "])\n",
        "K"
      ],
      "metadata": {
        "colab": {
          "base_uri": "https://localhost:8080/"
        },
        "id": "R38eodng9oQI",
        "outputId": "067ad9b9-add6-4e7d-ef77-d9d07149e40d"
      },
      "execution_count": null,
      "outputs": [
        {
          "output_type": "execute_result",
          "data": {
            "text/plain": [
              "array([[ 9,  1,  3,  2],\n",
              "       [ 6, -3,  9,  0],\n",
              "       [ 2, -4,  6,  8],\n",
              "       [ 9,  7,  1, -3]])"
            ]
          },
          "metadata": {},
          "execution_count": 4
        }
      ]
    },
    {
      "cell_type": "code",
      "source": [
        "KT1 = np.transpose(K)\n",
        "KT1"
      ],
      "metadata": {
        "colab": {
          "base_uri": "https://localhost:8080/"
        },
        "id": "CtjQESyW97te",
        "outputId": "29bcc6b6-6589-4db2-daed-d8489d8e4b57"
      },
      "execution_count": null,
      "outputs": [
        {
          "output_type": "execute_result",
          "data": {
            "text/plain": [
              "array([[ 9,  6,  2,  9],\n",
              "       [ 1, -3, -4,  7],\n",
              "       [ 3,  9,  6,  1],\n",
              "       [ 2,  0,  8, -3]])"
            ]
          },
          "metadata": {},
          "execution_count": 5
        }
      ]
    },
    {
      "cell_type": "code",
      "source": [
        "KT2 = K.T\n",
        "KT2"
      ],
      "metadata": {
        "id": "f2x-tXaU-lE_",
        "colab": {
          "base_uri": "https://localhost:8080/"
        },
        "outputId": "205e0af7-37de-4c1e-e9c1-c65e047871b3"
      },
      "execution_count": null,
      "outputs": [
        {
          "output_type": "execute_result",
          "data": {
            "text/plain": [
              "array([[ 9,  6,  2,  9],\n",
              "       [ 1, -3, -4,  7],\n",
              "       [ 3,  9,  6,  1],\n",
              "       [ 2,  0,  8, -3]])"
            ]
          },
          "metadata": {},
          "execution_count": 22
        }
      ]
    },
    {
      "cell_type": "code",
      "source": [
        "np.array_equiv(KT1, KT2)"
      ],
      "metadata": {
        "id": "0xRFTYdI-wX_",
        "colab": {
          "base_uri": "https://localhost:8080/"
        },
        "outputId": "78f03527-abd5-44d8-a281-1ba02fcdaf08"
      },
      "execution_count": null,
      "outputs": [
        {
          "output_type": "execute_result",
          "data": {
            "text/plain": [
              "True"
            ]
          },
          "metadata": {},
          "execution_count": 7
        }
      ]
    },
    {
      "cell_type": "code",
      "source": [
        "H = np.array([\n",
        "    [8,3,3,6],\n",
        "    [0,1,4,9],\n",
        "    [5,7,6,2]\n",
        "])\n",
        "H.shape"
      ],
      "metadata": {
        "colab": {
          "base_uri": "https://localhost:8080/"
        },
        "id": "VYi_xfAQ-2uo",
        "outputId": "1f5b5a62-ecfc-46c9-c10d-1ab1d61aa56a"
      },
      "execution_count": null,
      "outputs": [
        {
          "output_type": "execute_result",
          "data": {
            "text/plain": [
              "(3, 4)"
            ]
          },
          "metadata": {},
          "execution_count": 10
        }
      ]
    },
    {
      "cell_type": "code",
      "source": [
        "np.transpose(H).shape"
      ],
      "metadata": {
        "colab": {
          "base_uri": "https://localhost:8080/"
        },
        "id": "eLT2o57r_bCn",
        "outputId": "ee20fa86-b889-4fd0-f6cb-bfaf7146bf8a"
      },
      "execution_count": null,
      "outputs": [
        {
          "output_type": "execute_result",
          "data": {
            "text/plain": [
              "(4, 3)"
            ]
          },
          "metadata": {},
          "execution_count": 11
        }
      ]
    },
    {
      "cell_type": "code",
      "source": [
        "H.T.shape"
      ],
      "metadata": {
        "colab": {
          "base_uri": "https://localhost:8080/"
        },
        "id": "Vy-8I-vQ_fro",
        "outputId": "4418195f-54c6-4127-fee9-e6a5a67144b1"
      },
      "execution_count": null,
      "outputs": [
        {
          "output_type": "execute_result",
          "data": {
            "text/plain": [
              "(4, 3)"
            ]
          },
          "metadata": {},
          "execution_count": 12
        }
      ]
    },
    {
      "cell_type": "markdown",
      "source": [
        "#### Try to create your own matrix (you can try non-squares) to test transposition."
      ],
      "metadata": {
        "id": "HZboyN9m4DU7"
      }
    },
    {
      "cell_type": "code",
      "source": [
        "D = np.array([\n",
        "    [2,4],\n",
        "    [6,1],\n",
        "    [8,6],\n",
        "    [2,1],\n",
        "    [7,7]\n",
        "])"
      ],
      "metadata": {
        "id": "wIlRQbA74FCO"
      },
      "execution_count": null,
      "outputs": []
    },
    {
      "cell_type": "code",
      "source": [
        "DT = np.transpose(D)\n",
        "DT"
      ],
      "metadata": {
        "colab": {
          "base_uri": "https://localhost:8080/"
        },
        "id": "juTXeq-3UEdh",
        "outputId": "b85cfdbd-aca5-45f3-8e2e-d3091d25c823"
      },
      "execution_count": null,
      "outputs": [
        {
          "output_type": "execute_result",
          "data": {
            "text/plain": [
              "array([[2, 6, 8, 2, 7],\n",
              "       [4, 1, 6, 1, 7]])"
            ]
          },
          "metadata": {},
          "execution_count": 19
        }
      ]
    },
    {
      "cell_type": "markdown",
      "source": [
        "## Dot Product / Inner Product"
      ],
      "metadata": {
        "id": "1sw-OkxO4fCe"
      }
    },
    {
      "cell_type": "markdown",
      "source": [
        "If you recall the dot product from laboratory activity before, we will try to implement the same operation with matrices. In matrix dot product we are going to get the sum of products of the vectors by row-column pairs. So if we have two matrices $X$ and $Y$:\n",
        "\n",
        "$$X = \\begin{bmatrix}x_{(0,0)}&x_{(0,1)}\\\\ x_{(1,0)}&x_{(1,1)}\\end{bmatrix}, Y = \\begin{bmatrix}y_{(0,0)}&y_{(0,1)}\\\\ y_{(1,0)}&y_{(1,1)}\\end{bmatrix}$$\n",
        "\n",
        "The dot product will then be computed as:\n",
        "$$X \\cdot Y= \\begin{bmatrix} x_{(0,0)}*y_{(0,0)} + x_{(0,1)}*y_{(1,0)} & x_{(0,0)}*y_{(0,1)} + x_{(0,1)}*y_{(1,1)} \\\\  x_{(1,0)}*y_{(0,0)} + x_{(1,1)}*y_{(1,0)} & x_{(1,0)}*y_{(0,1)} + x_{(1,1)}*y_{(1,1)}\n",
        "\\end{bmatrix}$$\n",
        "\n",
        "So if we assign values to $X$ and $Y$:\n",
        "$$X = \\begin{bmatrix}3&4&5\\\\ 6&2&8 \\\\ 1&7&4\\end{bmatrix}, Y = \\begin{bmatrix}-5&7&3\\\\ 6&8&4 \\\\ 4&6&2\\end{bmatrix}$$"
      ],
      "metadata": {
        "id": "TT27R3xp4hMz"
      }
    },
    {
      "cell_type": "markdown",
      "source": [
        "$$X \\cdot Y= \\begin{bmatrix} 3*-5 + 4*6 + 5*4 & 3*7+ 4*8 + 5*6 & 3*3 + 4*4 + 5*2\\\\  6*-5 + 2*6 + 8*4 & 6*7 + 2*8 + 8*6 & 6*3 + 2*4 + 8*2 \\\\ 1*-5 + 7*6 + 4*4 & 1*7 + 7*8 + 4*6 & 1*3 + 7*4 + 4*2 \\end{bmatrix} = \\begin{bmatrix} 29 & 83 & 35 \\\\ 14 & 106 & 42 \\\\ 53 & 87 & 39 \\end{bmatrix}$$\n",
        "This could be achieved programmatically using `np.dot()`, `np.matmul()` or the `@` operator."
      ],
      "metadata": {
        "id": "I0CqYnC44kBI"
      }
    },
    {
      "cell_type": "code",
      "source": [
        "X = np.array([\n",
        "    [3,4,5],\n",
        "    [6,2,8],\n",
        "    [1,7,4]\n",
        "])\n",
        "Y = np.array([\n",
        "    [-5,7,3],\n",
        "    [6,8,4],\n",
        "    [4,6,2]\n",
        "])"
      ],
      "metadata": {
        "id": "ThQQQ4jZAWRD"
      },
      "execution_count": null,
      "outputs": []
    },
    {
      "cell_type": "code",
      "source": [
        "np.dot(X,Y)"
      ],
      "metadata": {
        "colab": {
          "base_uri": "https://localhost:8080/"
        },
        "id": "VGfhJNMGCK3J",
        "outputId": "fb882016-8264-4fc5-86a3-6cf7ac0facb6"
      },
      "execution_count": null,
      "outputs": [
        {
          "output_type": "execute_result",
          "data": {
            "text/plain": [
              "array([[ 29,  83,  35],\n",
              "       [ 14, 106,  42],\n",
              "       [ 53,  87,  39]])"
            ]
          },
          "metadata": {},
          "execution_count": 27
        }
      ]
    },
    {
      "cell_type": "code",
      "source": [
        "X.dot(Y)"
      ],
      "metadata": {
        "colab": {
          "base_uri": "https://localhost:8080/"
        },
        "id": "9dxBKqtxBcKm",
        "outputId": "b9b9376c-2e8e-49a7-94f0-d05d67ea2069"
      },
      "execution_count": null,
      "outputs": [
        {
          "output_type": "execute_result",
          "data": {
            "text/plain": [
              "array([[ 59,  83,  35],\n",
              "       [ 74, 106,  42],\n",
              "       [ 63,  87,  39]])"
            ]
          },
          "metadata": {},
          "execution_count": 25
        }
      ]
    },
    {
      "cell_type": "code",
      "source": [
        "X @ Y"
      ],
      "metadata": {
        "colab": {
          "base_uri": "https://localhost:8080/"
        },
        "id": "RoZ_sOYrBfoi",
        "outputId": "5f750caa-576f-427d-df90-a7bfd5d679af"
      },
      "execution_count": null,
      "outputs": [
        {
          "output_type": "execute_result",
          "data": {
            "text/plain": [
              "array([[ 29,  83,  35],\n",
              "       [ 14, 106,  42],\n",
              "       [ 53,  87,  39]])"
            ]
          },
          "metadata": {},
          "execution_count": 28
        }
      ]
    },
    {
      "cell_type": "code",
      "source": [
        "np.matmul(X,Y)"
      ],
      "metadata": {
        "colab": {
          "base_uri": "https://localhost:8080/"
        },
        "id": "vMgYUGh-BiEH",
        "outputId": "52873922-51b9-48de-cdb6-121a4cd94514"
      },
      "execution_count": null,
      "outputs": [
        {
          "output_type": "execute_result",
          "data": {
            "text/plain": [
              "array([[ 29,  83,  35],\n",
              "       [ 14, 106,  42],\n",
              "       [ 53,  87,  39]])"
            ]
          },
          "metadata": {},
          "execution_count": 29
        }
      ]
    },
    {
      "cell_type": "markdown",
      "source": [
        "In matrix dot products there are additional rules compared with vector dot products. Since vector dot products were just in one dimension there are less restrictions. Since now we are dealing with Rank 2 vectors we need to consider some rules:\n",
        "\n",
        "### Rule 1: The inner dimensions of the two matrices in question must be the same. \n",
        "\n",
        "So given a matrix $E$ with a shape of $(e,x)$ where $e$ and $x$ are any integers. If we want to do a dot product between $E$ and another matrix $X$, then matrix $X$ should have a shape of $(x,o)$ where $x$ and $o$ are any integers. So for given the following matrices:\n",
        "\n",
        ":$$\n",
        "E=\\begin{bmatrix} 9 & 7 & 1 \\\\ 2 & 8 & 4 \\\\ 5 & 1 & 3 \\\\ 3 & 6 & 9\\end{bmatrix} ,\\\\\n",
        "X=\\begin{bmatrix} 5 & 2 & 9 & \\\\ -5 & 2 & 1 \\\\ 2 & 1 & 4 \\\\ -2 & 4 & 5\\end{bmatrix} ,\\\\\n",
        "O=\\begin{bmatrix} 2 & 4 & 7 & 9 \\\\ 5 & 9 & 8 & 3 \\\\ 8 & 9 & 1 & 4\\end{bmatrix} \n",
        "$$\n",
        "\n",
        "So in this case $E$ has a shape of $(4,3)$, $X$ has a shape of $(4,3)$ and $O$ has a shape of $(3,4)$. So the only matrix pairs that is eligible to perform dot product is matrices $E \\cdot O$, or $X \\cdot CO$.  "
      ],
      "metadata": {
        "id": "PdbgvjAM6HAN"
      }
    },
    {
      "cell_type": "code",
      "source": [
        "E = np.array([\n",
        "    [9,7,1],\n",
        "    [2,8,4],\n",
        "    [5,1,3],\n",
        "    [3,6,9]\n",
        "])\n",
        "X = np.array([\n",
        "    [5,2,9],\n",
        "    [-5,2,1],\n",
        "    [2,1,4],\n",
        "    [-2,4,5]\n",
        "])\n",
        "O = np.array([\n",
        "    [2,4,7,9],\n",
        "    [5,9,8,3],\n",
        "    [8,9,1,4]\n",
        "])\n",
        "print(E.shape)\n",
        "print(X.shape)\n",
        "print(O.shape)"
      ],
      "metadata": {
        "colab": {
          "base_uri": "https://localhost:8080/"
        },
        "id": "C0aMHfOWC77n",
        "outputId": "dcfd8a12-24cb-4297-c1ba-08e22ef11776"
      },
      "execution_count": null,
      "outputs": [
        {
          "output_type": "stream",
          "name": "stdout",
          "text": [
            "(4, 3)\n",
            "(4, 3)\n",
            "(3, 4)\n"
          ]
        }
      ]
    },
    {
      "cell_type": "code",
      "source": [
        "E @ O"
      ],
      "metadata": {
        "colab": {
          "base_uri": "https://localhost:8080/"
        },
        "id": "miqHYTGO-c88",
        "outputId": "feb06557-f6c7-4b95-bb20-f110c7eb3741"
      },
      "execution_count": null,
      "outputs": [
        {
          "output_type": "execute_result",
          "data": {
            "text/plain": [
              "array([[ 61, 108, 120, 106],\n",
              "       [ 76, 116,  82,  58],\n",
              "       [ 39,  56,  46,  60],\n",
              "       [108, 147,  78,  81]])"
            ]
          },
          "metadata": {},
          "execution_count": 31
        }
      ]
    },
    {
      "cell_type": "code",
      "source": [
        "X @ O"
      ],
      "metadata": {
        "colab": {
          "base_uri": "https://localhost:8080/"
        },
        "id": "DNhUqtaSBt8u",
        "outputId": "cedde426-0ca9-4116-e162-d5df2aad46c8"
      },
      "execution_count": null,
      "outputs": [
        {
          "output_type": "execute_result",
          "data": {
            "text/plain": [
              "array([[ 92, 119,  60,  87],\n",
              "       [  8,   7, -18, -35],\n",
              "       [ 41,  53,  26,  37],\n",
              "       [ 56,  73,  23,  14]])"
            ]
          },
          "metadata": {},
          "execution_count": 32
        }
      ]
    },
    {
      "cell_type": "markdown",
      "source": [
        "If you would notice the shape of the dot product changed and its shape is not the same as any of the matrices we used. The shape of a dot product is actually derived from the shapes of the matrices used. So recall matrix $E$ with a shape of $(a,b)$ and matrix $X$ with a shape of $(b,c)$, $E \\cdot X$ should have a shape $(a,c)$."
      ],
      "metadata": {
        "id": "s32FRkXuBy6i"
      }
    },
    {
      "cell_type": "code",
      "source": [
        "E @ X.T"
      ],
      "metadata": {
        "colab": {
          "base_uri": "https://localhost:8080/"
        },
        "id": "qOAA1A2vB-Km",
        "outputId": "825dbfb6-2ede-419d-9375-0ddf4c306dfe"
      },
      "execution_count": null,
      "outputs": [
        {
          "output_type": "execute_result",
          "data": {
            "text/plain": [
              "array([[ 68, -30,  29,  15],\n",
              "       [ 62,  10,  28,  48],\n",
              "       [ 54, -20,  23,   9],\n",
              "       [108,   6,  48,  63]])"
            ]
          },
          "metadata": {},
          "execution_count": 33
        }
      ]
    },
    {
      "cell_type": "code",
      "source": [
        "X = np.array([\n",
        "    [1,2,3,0]\n",
        "])\n",
        "Y = np.array([\n",
        "    [1,0,4,-1]\n",
        "])\n",
        "print(X.shape)\n",
        "print(Y.shape)"
      ],
      "metadata": {
        "colab": {
          "base_uri": "https://localhost:8080/"
        },
        "id": "LFid0c4RCTGI",
        "outputId": "b85f5031-e2c3-405b-9341-6f70aa62204d"
      },
      "execution_count": null,
      "outputs": [
        {
          "output_type": "stream",
          "name": "stdout",
          "text": [
            "(1, 4)\n",
            "(1, 4)\n"
          ]
        }
      ]
    },
    {
      "cell_type": "code",
      "source": [
        "Y.T @ X"
      ],
      "metadata": {
        "colab": {
          "base_uri": "https://localhost:8080/"
        },
        "id": "dl4Hfw1LCVi2",
        "outputId": "3fd7867a-5aaf-4777-b79e-6fce2cdbd933"
      },
      "execution_count": null,
      "outputs": [
        {
          "output_type": "execute_result",
          "data": {
            "text/plain": [
              "array([[ 1,  2,  3,  0],\n",
              "       [ 0,  0,  0,  0],\n",
              "       [ 4,  8, 12,  0],\n",
              "       [-1, -2, -3,  0]])"
            ]
          },
          "metadata": {},
          "execution_count": 35
        }
      ]
    },
    {
      "cell_type": "markdown",
      "source": [
        "### Rule 2: Dot Product has special properties\n",
        "\n",
        "Dot products are prevalent in matrix algebra, this implies that it has several unique properties and it should be considered when formulation solutions:\n",
        " 1. $A \\cdot B \\neq B \\cdot A$\n",
        " 2. $A \\cdot (B \\cdot C) = (A \\cdot B) \\cdot C$\n",
        " 3. $A\\cdot(B+C) = A\\cdot B + A\\cdot C$\n",
        " 4. $(B+C)\\cdot A = B\\cdot A + C\\cdot A$\n",
        " 5. $A\\cdot I = A$\n",
        " 6. $A\\cdot \\emptyset = \\emptyset$ \n"
      ],
      "metadata": {
        "id": "ZPB2BZHBHVdu"
      }
    },
    {
      "cell_type": "markdown",
      "source": [
        "I'll be doing just one of the properties and I'll leave the rest to test your skills!"
      ],
      "metadata": {
        "id": "63ZOIBuvCe-J"
      }
    },
    {
      "cell_type": "code",
      "source": [
        "A = np.array([\n",
        "    [3,2,1],\n",
        "    [4,5,1],\n",
        "    [1,1,0]\n",
        "])\n",
        "B = np.array([\n",
        "    [4,1,6],\n",
        "    [4,1,9],\n",
        "    [1,4,8]\n",
        "])\n",
        "C = np.array([\n",
        "    [1,1,0],\n",
        "    [0,1,1],\n",
        "    [1,0,1]\n",
        "])"
      ],
      "metadata": {
        "id": "wJoIJV6qFnEC"
      },
      "execution_count": null,
      "outputs": []
    },
    {
      "cell_type": "code",
      "source": [
        "A.dot(np.zeros(A.shape))"
      ],
      "metadata": {
        "colab": {
          "base_uri": "https://localhost:8080/"
        },
        "id": "fp-Y6I40Ibnl",
        "outputId": "233a99b8-bda1-44a3-ea00-27489a061af4"
      },
      "execution_count": null,
      "outputs": [
        {
          "output_type": "execute_result",
          "data": {
            "text/plain": [
              "array([[0., 0., 0.],\n",
              "       [0., 0., 0.],\n",
              "       [0., 0., 0.]])"
            ]
          },
          "metadata": {},
          "execution_count": 39
        }
      ]
    },
    {
      "cell_type": "code",
      "source": [
        "z_mat = np.zeros(A.shape)\n",
        "z_mat"
      ],
      "metadata": {
        "colab": {
          "base_uri": "https://localhost:8080/"
        },
        "id": "7x72PIzMIeZB",
        "outputId": "176269c3-185c-4e09-e097-7a9fb969a09e"
      },
      "execution_count": null,
      "outputs": [
        {
          "output_type": "execute_result",
          "data": {
            "text/plain": [
              "array([[0., 0., 0.],\n",
              "       [0., 0., 0.],\n",
              "       [0., 0., 0.]])"
            ]
          },
          "metadata": {},
          "execution_count": 40
        }
      ]
    },
    {
      "cell_type": "code",
      "source": [
        "a_dot_z = A.dot(np.zeros(A.shape))\n",
        "a_dot_z"
      ],
      "metadata": {
        "colab": {
          "base_uri": "https://localhost:8080/"
        },
        "id": "do2ZVCFWIst_",
        "outputId": "f20aff38-f8be-4781-a350-2d4651be9fcf"
      },
      "execution_count": null,
      "outputs": [
        {
          "output_type": "execute_result",
          "data": {
            "text/plain": [
              "array([[0., 0., 0.],\n",
              "       [0., 0., 0.],\n",
              "       [0., 0., 0.]])"
            ]
          },
          "metadata": {},
          "execution_count": 41
        }
      ]
    },
    {
      "cell_type": "code",
      "source": [
        "np.array_equal(a_dot_z,z_mat)"
      ],
      "metadata": {
        "colab": {
          "base_uri": "https://localhost:8080/"
        },
        "id": "O7-wQfH7Ig7g",
        "outputId": "735e6d64-b8dd-463f-fbf9-70a9591f8d8f"
      },
      "execution_count": null,
      "outputs": [
        {
          "output_type": "execute_result",
          "data": {
            "text/plain": [
              "True"
            ]
          },
          "metadata": {},
          "execution_count": 42
        }
      ]
    },
    {
      "cell_type": "code",
      "source": [
        "null_mat = np.empty(A.shape, dtype=float)\n",
        "null = np.array(null_mat,dtype=float)\n",
        "print(null)\n",
        "np.allclose(a_dot_z,null)"
      ],
      "metadata": {
        "colab": {
          "base_uri": "https://localhost:8080/"
        },
        "id": "M7X-_k9yIwZf",
        "outputId": "4d0793b6-5127-4b8e-9dea-43bfde37f9f6"
      },
      "execution_count": null,
      "outputs": [
        {
          "output_type": "stream",
          "name": "stdout",
          "text": [
            "[[0. 0. 0.]\n",
            " [0. 0. 0.]\n",
            " [0. 0. 0.]]\n"
          ]
        },
        {
          "output_type": "execute_result",
          "data": {
            "text/plain": [
              "True"
            ]
          },
          "metadata": {},
          "execution_count": 43
        }
      ]
    },
    {
      "cell_type": "markdown",
      "source": [
        "## Determinant"
      ],
      "metadata": {
        "id": "wjXSe8bbCmdi"
      }
    },
    {
      "cell_type": "markdown",
      "source": [
        "A determinant is a scalar value derived from a square matrix. The determinant is a fundamental and important value used in matrix algebra. Although it will not be evident in this laboratory on how it can be used practically, but it will be reatly used in future lessons.\n",
        "\n",
        "The determinant of some matrix $A$ is denoted as $det(A)$ or $|A|$. So let's say $A$ is represented as:\n",
        "$$A = \\begin{bmatrix}a_{(0,0)}&a_{(0,1)}\\\\a_{(1,0)}&a_{(1,1)}\\end{bmatrix}$$\n",
        "We can compute for the determinant as:\n",
        "$$|A| = a_{(0,0)}*a_{(1,1)} - a_{(1,0)}*a_{(0,1)}$$\n",
        "So if we have $A$ as:\n",
        "$$A = \\begin{bmatrix}1&4\\\\0&3\\end{bmatrix}, |A| = 3$$\n",
        "\n",
        "But you might wonder how about square matrices beyond the shape $(2,2)$? We can approach this problem by using several methods such as co-factor expansion and the minors method. This can be taught in the lecture of the laboratory but we can achieve the strenuous computation of high-dimensional matrices programmatically using Python. We can achieve this by using `np.linalg.det()`."
      ],
      "metadata": {
        "id": "a7WguBkDCpaH"
      }
    },
    {
      "cell_type": "code",
      "source": [
        "A = np.array([\n",
        "    [6,3],\n",
        "    [1,2]\n",
        "])\n",
        "np.linalg.det(A)"
      ],
      "metadata": {
        "colab": {
          "base_uri": "https://localhost:8080/"
        },
        "id": "UW7AXb-ZCmJG",
        "outputId": "5ec25b69-17c5-4cab-beca-9373b701777d"
      },
      "execution_count": null,
      "outputs": [
        {
          "output_type": "execute_result",
          "data": {
            "text/plain": [
              "8.999999999999998"
            ]
          },
          "metadata": {},
          "execution_count": 49
        }
      ]
    },
    {
      "cell_type": "code",
      "source": [
        "## Now other mathematics classes would require you to solve this by hand, \n",
        "## and that is great for practicing your memorization and coordination skills \n",
        "## but in this class we aim for simplicity and speed so we'll use programming\n",
        "## but it's completely fine if you want to try to solve this one by hand.\n",
        "B = np.array([\n",
        "    [1,3,5,6],\n",
        "    [0,3,1,3],\n",
        "    [3,1,8,2],\n",
        "    [5,2,6,8]\n",
        "])\n",
        "np.linalg.det(B)"
      ],
      "metadata": {
        "colab": {
          "base_uri": "https://localhost:8080/"
        },
        "id": "eIAvsn7JCvAu",
        "outputId": "e477216e-9e96-439a-8f28-ffa6d05ec390"
      },
      "execution_count": null,
      "outputs": [
        {
          "output_type": "execute_result",
          "data": {
            "text/plain": [
              "-235.0000000000002"
            ]
          },
          "metadata": {},
          "execution_count": 50
        }
      ]
    },
    {
      "cell_type": "markdown",
      "source": [
        "## Inverse"
      ],
      "metadata": {
        "id": "NykX8MagC0ma"
      }
    },
    {
      "cell_type": "markdown",
      "source": [
        "The inverse of a matrix is another fundamental operation in matrix algebra. Determining the inverse of a matrix let us determine if its solvability and its characteristic as a system of linear equation — we'll expand on this in the nect module. Another use of the inverse matrix is solving the problem of divisibility between matrices. Although element-wise division exists but dividing the entire concept of matrices does not exists. Inverse matrices provides a related operation that could have the same concept of \"dividing\" matrices.\n",
        "\n",
        "Now to determine the inverse of a matrix we need to perform several steps. So let's say we have a matrix $M$:\n",
        "$$M = \\begin{bmatrix}1&7\\\\-3&5\\end{bmatrix}$$\n",
        "First, we need to get the determinant of $M$.\n",
        "$$|M| = (1)(5)-(-3)(7) = 26$$\n",
        "Next, we need to reform the matrix into the inverse form:\n",
        "$$M^{-1} = \\frac{1}{|M|} \\begin{bmatrix} m_{(1,1)} & -m_{(0,1)} \\\\ -m_{(1,0)} & m_{(0,0)}\\end{bmatrix}$$\n",
        "So that will be:\n",
        "$$M^{-1} = \\frac{1}{26} \\begin{bmatrix} 5 & -7 \\\\ 3 & 1\\end{bmatrix} = \\begin{bmatrix} \\frac{5}{26} & \\frac{-7}{26} \\\\ \\frac{3}{26} & \\frac{1}{26}\\end{bmatrix}$$\n",
        "For higher-dimension matrices you might need to use co-factors, minors, adjugates, and other reduction techinques. To solve this programmatially we can use `np.linalg.inv()`."
      ],
      "metadata": {
        "id": "t9FXJhayC2lv"
      }
    },
    {
      "cell_type": "code",
      "source": [
        "M = np.array([\n",
        "    [1,7],\n",
        "    [-3, 5]\n",
        "])\n",
        "\n",
        "np.array(M @ np.linalg.inv(M), dtype=int)"
      ],
      "metadata": {
        "colab": {
          "base_uri": "https://localhost:8080/"
        },
        "id": "RnesMjVAC4vE",
        "outputId": "4ab08c51-ba04-4738-c676-80a1c9e9d13d"
      },
      "execution_count": null,
      "outputs": [
        {
          "output_type": "execute_result",
          "data": {
            "text/plain": [
              "array([[1, 0],\n",
              "       [0, 1]])"
            ]
          },
          "metadata": {},
          "execution_count": 28
        }
      ]
    },
    {
      "cell_type": "code",
      "source": [
        "## And now let's test your skills in solving a matrix with high dimensions:\n",
        "N = np.array([\n",
        "    [18,5,23,1,0,33,5],\n",
        "    [0,45,0,11,2,4,2],\n",
        "    [5,9,20,0,0,0,3],\n",
        "    [1,6,4,4,8,43,1],\n",
        "    [8,6,8,7,1,6,1],\n",
        "    [-5,15,2,0,0,6,-30],\n",
        "    [-2,-5,1,2,1,20,12],\n",
        "])\n",
        "N_inv = np.linalg.inv(N)\n",
        "np.array(N @ N_inv,dtype=int)"
      ],
      "metadata": {
        "colab": {
          "base_uri": "https://localhost:8080/"
        },
        "id": "3ZuJc0UTC7rG",
        "outputId": "1fd74b1c-7b4b-49c2-d01f-6752e4842e82"
      },
      "execution_count": null,
      "outputs": [
        {
          "output_type": "execute_result",
          "data": {
            "text/plain": [
              "array([[0, 0, 0, 0, 0, 0, 0],\n",
              "       [0, 0, 0, 0, 0, 0, 0],\n",
              "       [0, 0, 1, 0, 0, 0, 0],\n",
              "       [0, 0, 0, 1, 0, 0, 0],\n",
              "       [0, 0, 0, 0, 0, 0, 0],\n",
              "       [0, 0, 0, 0, 0, 0, 0],\n",
              "       [0, 0, 0, 0, 0, 0, 0]])"
            ]
          },
          "metadata": {},
          "execution_count": 29
        }
      ]
    },
    {
      "cell_type": "markdown",
      "source": [
        "To validate the wether if the matric that you have solved is really the inverse, we follow this dot product property for a matrix $M$:\n",
        "$$M\\cdot M^{-1} = I$$"
      ],
      "metadata": {
        "id": "BA2bOYDeDAAp"
      }
    },
    {
      "cell_type": "code",
      "source": [
        "squad = np.array([\n",
        "    [1.0, 1.0, 0.5],\n",
        "    [0.7, 0.7, 0.9],\n",
        "    [0.3, 0.3, 1.0]\n",
        "])\n",
        "weights = np.array([\n",
        "    [0.2, 0.2, 0.6]\n",
        "])\n",
        "p_grade = squad @ weights.T\n",
        "p_grade\n"
      ],
      "metadata": {
        "colab": {
          "base_uri": "https://localhost:8080/"
        },
        "id": "Tvao1DO9C-kG",
        "outputId": "5124493c-f6c1-4830-bcd0-67aa157d63b4"
      },
      "execution_count": null,
      "outputs": [
        {
          "output_type": "execute_result",
          "data": {
            "text/plain": [
              "array([[0.7 ],\n",
              "       [0.82],\n",
              "       [0.72]])"
            ]
          },
          "metadata": {},
          "execution_count": 30
        }
      ]
    },
    {
      "cell_type": "markdown",
      "source": [
        "## Activity"
      ],
      "metadata": {
        "id": "-v87xk1fDF4m"
      }
    },
    {
      "cell_type": "markdown",
      "source": [
        "### Task 1"
      ],
      "metadata": {
        "id": "-sF7UefNDIP4"
      }
    },
    {
      "cell_type": "markdown",
      "source": [
        "Prove and implement the remaining 6 matrix multiplication properties. You may create your own matrices in which their shapes should not be lower than  (3,3) . In your methodology, create individual flowcharts for each property and discuss the property you would then present your proofs or validity of your implementation in the results section by comparing your result to present functions from NumPy."
      ],
      "metadata": {
        "id": "HXOVu_rcDKSF"
      }
    },
    {
      "cell_type": "code",
      "source": [
        "K = np.array([\n",
        "    [2,4,7,-3],\n",
        "    [8,-1,0,3],\n",
        "    [6,5,1,3],\n",
        "    [6,1,-2,2]\n",
        "])\n",
        "G = np.array([\n",
        "    [2,8,6,-4],\n",
        "    [1,-7,9,3],\n",
        "    [1,2,1,5],\n",
        "    [5,9,2,-1]\n",
        "])\n",
        "R= np.array([\n",
        "    [0,6,-2,2], \n",
        "    [1,1,1,4],\n",
        "    [1,-2,2,2],\n",
        "    [-3,1,8,6]\n",
        "])"
      ],
      "metadata": {
        "id": "RvC79lILynSY"
      },
      "execution_count": null,
      "outputs": []
    },
    {
      "cell_type": "markdown",
      "source": [
        "$A \\cdot B \\neq B \\cdot A$"
      ],
      "metadata": {
        "id": "aFtAi6Rp5NUR"
      }
    },
    {
      "cell_type": "code",
      "source": [
        "G = (K@G) != (G@K)\n",
        "G"
      ],
      "metadata": {
        "colab": {
          "base_uri": "https://localhost:8080/"
        },
        "id": "UdBy73Mm5Uh0",
        "outputId": "8cbe0921-cdc3-47e7-f922-48ed835767d6"
      },
      "execution_count": null,
      "outputs": [
        {
          "output_type": "execute_result",
          "data": {
            "text/plain": [
              "array([[ True,  True,  True,  True],\n",
              "       [ True,  True,  True,  True],\n",
              "       [ True,  True,  True,  True],\n",
              "       [ True,  True,  True,  True]])"
            ]
          },
          "metadata": {},
          "execution_count": 18
        }
      ]
    },
    {
      "cell_type": "markdown",
      "source": [
        "$A \\cdot (B \\cdot C) = (A \\cdot B) \\cdot C$"
      ],
      "metadata": {
        "id": "cQRtXmnGxpgc"
      }
    },
    {
      "cell_type": "code",
      "source": [
        "M = K @ (G @ R)\n",
        "M"
      ],
      "metadata": {
        "id": "Rsx41GTIDSk5",
        "colab": {
          "base_uri": "https://localhost:8080/"
        },
        "outputId": "d04a97ad-bc33-43ea-8771-e94078c400e7"
      },
      "execution_count": null,
      "outputs": [
        {
          "output_type": "execute_result",
          "data": {
            "text/plain": [
              "array([[-102,  -81,  409,  250],\n",
              "       [ 257,  150, -176,  314],\n",
              "       [ 151,   57,   96,  368],\n",
              "       [ 201,   54, -157,  158]])"
            ]
          },
          "metadata": {},
          "execution_count": 6
        }
      ]
    },
    {
      "cell_type": "code",
      "source": [
        "P = (K @ G) @ R\n",
        "P"
      ],
      "metadata": {
        "id": "dKxNmPEPDSdu",
        "colab": {
          "base_uri": "https://localhost:8080/"
        },
        "outputId": "0c0a3640-e5c5-4aad-c00d-caadc4fcff8c"
      },
      "execution_count": null,
      "outputs": [
        {
          "output_type": "execute_result",
          "data": {
            "text/plain": [
              "array([[-102,  -81,  409,  250],\n",
              "       [ 257,  150, -176,  314],\n",
              "       [ 151,   57,   96,  368],\n",
              "       [ 201,   54, -157,  158]])"
            ]
          },
          "metadata": {},
          "execution_count": 8
        }
      ]
    },
    {
      "cell_type": "markdown",
      "source": [
        "$A\\cdot(B+C) = A\\cdot B + A\\cdot C$"
      ],
      "metadata": {
        "id": "YH5q1ywg1jII"
      }
    },
    {
      "cell_type": "code",
      "source": [
        "D = K @ ( G + R)\n",
        "D"
      ],
      "metadata": {
        "id": "vhSz7aiuDRkR",
        "colab": {
          "base_uri": "https://localhost:8080/"
        },
        "outputId": "a2654330-5292-4ce3-ce3a-e80817f52646"
      },
      "execution_count": null,
      "outputs": [
        {
          "output_type": "execute_result",
          "data": {
            "text/plain": [
              "array([[ 20, -26,  39,  58],\n",
              "       [ 20, 148,  52,  -8],\n",
              "       [ 30,  84, 107,  45],\n",
              "       [ 14,  98,  48,  -9]])"
            ]
          },
          "metadata": {},
          "execution_count": 10
        }
      ]
    },
    {
      "cell_type": "code",
      "source": [
        "O = (K@G) + (K@R)\n",
        "O"
      ],
      "metadata": {
        "id": "ye8RydzBDReb",
        "colab": {
          "base_uri": "https://localhost:8080/"
        },
        "outputId": "6cff832a-36ed-45ac-9585-0383d667d9c1"
      },
      "execution_count": null,
      "outputs": [
        {
          "output_type": "execute_result",
          "data": {
            "text/plain": [
              "array([[ 20, -26,  39,  58],\n",
              "       [ 20, 148,  52,  -8],\n",
              "       [ 30,  84, 107,  45],\n",
              "       [ 14,  98,  48,  -9]])"
            ]
          },
          "metadata": {},
          "execution_count": 12
        }
      ]
    },
    {
      "cell_type": "markdown",
      "source": [
        "$(B+C)\\cdot A = B\\cdot A + C\\cdot A$"
      ],
      "metadata": {
        "id": "hbgTW3Yv3IDR"
      }
    },
    {
      "cell_type": "code",
      "source": [
        "A = (G+R) @ K\n",
        "A"
      ],
      "metadata": {
        "id": "-GMooUvvDRXq",
        "colab": {
          "base_uri": "https://localhost:8080/"
        },
        "outputId": "46c7e24d-c6e4-4e43-f46d-c776311a4b7b"
      },
      "execution_count": null,
      "outputs": [
        {
          "output_type": "execute_result",
          "data": {
            "text/plain": [
              "array([[128,  12,  22,  44],\n",
              "       [ 58,  71,  10,  20],\n",
              "       [ 64,  30,   3,  17],\n",
              "       [174,  53,  14,  64]])"
            ]
          },
          "metadata": {},
          "execution_count": 13
        }
      ]
    },
    {
      "cell_type": "code",
      "source": [
        "I = (G@K) + (R@K)\n",
        "I"
      ],
      "metadata": {
        "id": "d6xUBsHnDRME",
        "colab": {
          "base_uri": "https://localhost:8080/"
        },
        "outputId": "55154e07-3057-49f7-9f8f-fb570a92d7f3"
      },
      "execution_count": null,
      "outputs": [
        {
          "output_type": "execute_result",
          "data": {
            "text/plain": [
              "array([[128,  12,  22,  44],\n",
              "       [ 58,  71,  10,  20],\n",
              "       [ 64,  30,   3,  17],\n",
              "       [174,  53,  14,  64]])"
            ]
          },
          "metadata": {},
          "execution_count": 15
        }
      ]
    },
    {
      "cell_type": "markdown",
      "source": [
        "$A\\cdot I = A$"
      ],
      "metadata": {
        "id": "hMnnJpwF3-ic"
      }
    },
    {
      "cell_type": "code",
      "source": [
        "np.eye(4)"
      ],
      "metadata": {
        "colab": {
          "base_uri": "https://localhost:8080/"
        },
        "id": "hiufjRUZ3-5c",
        "outputId": "5d75c432-7e2b-4328-d9d6-ea257d7ebc70"
      },
      "execution_count": null,
      "outputs": [
        {
          "output_type": "execute_result",
          "data": {
            "text/plain": [
              "array([[1., 0., 0., 0.],\n",
              "       [0., 1., 0., 0.],\n",
              "       [0., 0., 1., 0.],\n",
              "       [0., 0., 0., 1.]])"
            ]
          },
          "metadata": {},
          "execution_count": 19
        }
      ]
    },
    {
      "cell_type": "code",
      "source": [
        "K.dot(np.eye(4))"
      ],
      "metadata": {
        "colab": {
          "base_uri": "https://localhost:8080/"
        },
        "id": "180XkxX77FWP",
        "outputId": "9bae5fb7-35b6-4a68-e6b4-9fb73e9a2ba0"
      },
      "execution_count": null,
      "outputs": [
        {
          "output_type": "execute_result",
          "data": {
            "text/plain": [
              "array([[ 2.,  4.,  7., -3.],\n",
              "       [ 8., -1.,  0.,  3.],\n",
              "       [ 6.,  5.,  1.,  3.],\n",
              "       [ 6.,  1., -2.,  2.]])"
            ]
          },
          "metadata": {},
          "execution_count": 20
        }
      ]
    },
    {
      "cell_type": "markdown",
      "source": [
        "$A\\cdot \\emptyset = \\emptyset$"
      ],
      "metadata": {
        "id": "rDVKULp87_KS"
      }
    },
    {
      "cell_type": "code",
      "source": [
        "z_mat = np.zeros(R.shape)\n",
        "z_mat"
      ],
      "metadata": {
        "colab": {
          "base_uri": "https://localhost:8080/"
        },
        "id": "jHW5NAug7_kK",
        "outputId": "b1baa6a1-a12a-45df-ccc5-7088a5cd2c05"
      },
      "execution_count": null,
      "outputs": [
        {
          "output_type": "execute_result",
          "data": {
            "text/plain": [
              "array([[0., 0., 0., 0.],\n",
              "       [0., 0., 0., 0.],\n",
              "       [0., 0., 0., 0.],\n",
              "       [0., 0., 0., 0.]])"
            ]
          },
          "metadata": {},
          "execution_count": 21
        }
      ]
    },
    {
      "cell_type": "markdown",
      "source": [
        "## Conclusion"
      ],
      "metadata": {
        "id": "1q0NJJC7DNCk"
      }
    },
    {
      "cell_type": "markdown",
      "source": [
        "For your conclusion synthesize the concept and application of the laboratory. Briefly discuss what you have learned and achieved in this activity. Also answer the question: \"how can matrix operations solve problems in healthcare?\"."
      ],
      "metadata": {
        "id": "Gy3TPJQbDPBR"
      }
    }
  ]
}