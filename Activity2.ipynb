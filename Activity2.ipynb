{
  "nbformat": 4,
  "nbformat_minor": 0,
  "metadata": {
    "colab": {
      "name": "Untitled0.ipynb",
      "provenance": [],
      "authorship_tag": "ABX9TyO/CHn30+bh4LXj6kqBY07A",
      "include_colab_link": true
    },
    "kernelspec": {
      "name": "python3",
      "display_name": "Python 3"
    },
    "language_info": {
      "name": "python"
    }
  },
  "cells": [
    {
      "cell_type": "markdown",
      "metadata": {
        "id": "view-in-github",
        "colab_type": "text"
      },
      "source": [
        "<a href=\"https://colab.research.google.com/github/marcgaeb/LinearAlgebra_2ndSem/blob/main/Activity2.ipynb\" target=\"_parent\"><img src=\"https://colab.research.google.com/assets/colab-badge.svg\" alt=\"Open In Colab\"/></a>"
      ]
    },
    {
      "cell_type": "markdown",
      "source": [
        "# Linear Algebra for ECE\n",
        "## Laboratory 4 : Matrices"
      ],
      "metadata": {
        "id": "sLJF13MbyJSD"
      }
    },
    {
      "cell_type": "markdown",
      "source": [
        "## Objectives \n",
        "\n",
        "At the end of this activity you will be able to:\n",
        "   1. Be familiar with matrices and their relations to linear equations\n",
        "   2. Perform basic matrix operations\n",
        "   3. Program and translate matrix equations and operations using Python"
      ],
      "metadata": {
        "id": "-iNtv7xgycpB"
      }
    },
    {
      "cell_type": "markdown",
      "source": [
        "*italicized text*# Discussion"
      ],
      "metadata": {
        "id": "OscZ058azGn6"
      }
    },
    {
      "cell_type": "code",
      "source": [
        "import numpy as np\n",
        "import matplotlib.pyplot as plt\n",
        "import scipy.linalg as la\n",
        "%matplotlib inline"
      ],
      "metadata": {
        "id": "nBVfJ-XVzN0b"
      },
      "execution_count": 3,
      "outputs": []
    },
    {
      "cell_type": "markdown",
      "source": [
        "$$\n",
        "A =  \\left\\{\n",
        "    \\begin{array}\\\n",
        "      x + y \\\\\n",
        "    \\end{array}\n",
        "\\right. \\\\\n",
        "B =  \\left\\{\n",
        "    \\begin{array}\\\n",
        "      x+y+z \\\\\n",
        "      3x -2y -z \\\\\n",
        "      -x + 4y +2z\n",
        "    \\end{array}\n",
        " \\right. $$ "
      ],
      "metadata": {
        "id": "8imYfos40S2b"
      }
    },
    {
      "cell_type": "markdown",
      "source": [
        ":$$\n",
        "A=\\begin{bmatrix} 1 & 1 \\\\ 4 & {-10}\\end{bmatrix} \\\\\n",
        "B=\\begin{bmatrix} 1 & 1 & 1 \\\\ 3 & -2 & -1 \\\\ -1 & 4 & 2\\end{bmatrix}\\\\\n",
        "C=\\begin{bmatrix} 1 & -2 & 3 & -4 \\\\ 3 & -1 & -2 & 1 \\\\ 2 & -1 & 3 & -2\\end{bmatrix}\n",
        "$$ \n"
      ],
      "metadata": {
        "id": "rSzt8E6Z1bzc"
      }
    },
    {
      "cell_type": "markdown",
      "source": [
        ""
      ],
      "metadata": {
        "id": "qRcp_crG3Orj"
      }
    }
  ]
}